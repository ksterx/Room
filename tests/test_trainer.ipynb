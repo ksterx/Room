{
 "cells": [
  {
   "cell_type": "code",
   "execution_count": 1,
   "metadata": {},
   "outputs": [
    {
     "name": "stderr",
     "output_type": "stream",
     "text": [
      "/home/ksterx/Applications/miniconda3/envs/ai/lib/python3.10/site-packages/tqdm/auto.py:22: TqdmWarning: IProgress not found. Please update jupyter and ipywidgets. See https://ipywidgets.readthedocs.io/en/stable/user_install.html\n",
      "  from .autonotebook import tqdm as notebook_tqdm\n"
     ]
    },
    {
     "ename": "ModuleNotFoundError",
     "evalue": "No module named 'room'",
     "output_type": "error",
     "traceback": [
      "\u001b[0;31m---------------------------------------------------------------------------\u001b[0m",
      "\u001b[0;31mModuleNotFoundError\u001b[0m                       Traceback (most recent call last)",
      "Cell \u001b[0;32mIn[1], line 6\u001b[0m\n\u001b[1;32m      3\u001b[0m \u001b[38;5;28;01mimport\u001b[39;00m \u001b[38;5;21;01mtorch\u001b[39;00m\n\u001b[1;32m      4\u001b[0m \u001b[38;5;28;01mfrom\u001b[39;00m \u001b[38;5;21;01mtqdm\u001b[39;00m \u001b[38;5;28;01mimport\u001b[39;00m trange\n\u001b[0;32m----> 6\u001b[0m \u001b[38;5;28;01mfrom\u001b[39;00m \u001b[38;5;21;01mroom\u001b[39;00m \u001b[38;5;28;01mimport\u001b[39;00m notice\n\u001b[1;32m      7\u001b[0m \u001b[38;5;28;01mfrom\u001b[39;00m \u001b[38;5;21;01mroom\u001b[39;00m\u001b[38;5;21;01m.\u001b[39;00m\u001b[38;5;21;01magents\u001b[39;00m \u001b[38;5;28;01mimport\u001b[39;00m Agent\n\u001b[1;32m      8\u001b[0m \u001b[38;5;28;01mfrom\u001b[39;00m \u001b[38;5;21;01mroom\u001b[39;00m\u001b[38;5;21;01m.\u001b[39;00m\u001b[38;5;21;01mcommon\u001b[39;00m\u001b[38;5;21;01m.\u001b[39;00m\u001b[38;5;21;01mcallbacks\u001b[39;00m \u001b[38;5;28;01mimport\u001b[39;00m Callback\n",
      "\u001b[0;31mModuleNotFoundError\u001b[0m: No module named 'room'"
     ]
    }
   ],
   "source": [
    "\n",
    "from typing import List, Optional, Union\n",
    "\n",
    "import torch\n",
    "from tqdm import trange\n",
    "\n",
    "from room import notice\n",
    "from room.agents import Agent\n",
    "from room.common.callbacks import Callback\n",
    "from room.common.utils import get_param\n",
    "from room.envs.wrappers import EnvWrapper\n",
    "from room.loggers import Logger\n",
    "from room.memories import Memory\n",
    "from room.trainers.base import Trainer\n",
    "\n"
   ]
  },
  {
   "cell_type": "code",
   "execution_count": null,
   "metadata": {},
   "outputs": [],
   "source": [
    "class SimpleTrainer(Trainer):\n",
    "    def __init__(\n",
    "        self,\n",
    "        env: EnvWrapper,\n",
    "        agent: Agent,\n",
    "        timesteps: Optional[int] = None,\n",
    "        memory: Optional[Union[str, Memory]] = None,\n",
    "        logger: Optional[Logger] = None,\n",
    "        cfg: dict = None,\n",
    "        callbacks: Union[Callback, List[Callback]] = None,\n",
    "    ):\n",
    "        super().__init__(env, agent, timesteps, memory, logger, cfg, callbacks)\n",
    "        self.agent = agent\n",
    "\n",
    "    def train(self):\n",
    "        super().train()\n",
    "\n",
    "        states = self.env.reset()\n",
    "\n",
    "        for callback in self.callbacks:\n",
    "            callback.on_before_train()\n",
    "\n",
    "        for t in trange(self.timesteps):\n",
    "\n",
    "            for callback in self.callbacks:\n",
    "                callback.on_before_step(timestep=t)\n",
    "\n",
    "            self.agent.on_before_step(timestep=t)\n",
    "\n",
    "            # Get action tensor from each agent and stack them\n",
    "            with torch.no_grad():\n",
    "                notice.debug(f\"States: {states}\")\n",
    "                for agent, state in zip(self.agents, states):\n",
    "                    notice.debug(f\"State: {state}, Agent: {agent}\")\n",
    "                actions = torch.vstack([agent.act(state) for agent, state in zip(self.agents, states)])\n",
    "            next_states, rewards, terminated, truncated, info = self.env.step(actions)\n",
    "            self.memory.add(\n",
    "                {\n",
    "                    \"states\": states,\n",
    "                    \"actions\": actions,\n",
    "                    \"rewards\": rewards,\n",
    "                    \"next_states\": next_states,\n",
    "                    \"terminated\": terminated,\n",
    "                    \"truncated\": truncated,\n",
    "                    \"info\": info,\n",
    "                }\n",
    "            )\n",
    "\n",
    "            with torch.no_grad():\n",
    "                for agent in self.agents:\n",
    "                    agent.collect(new_states, action, reward)\n",
    "\n",
    "            with torch.no_grad():\n",
    "                if terminated.any() or truncated.any():\n",
    "                    states, infos = self.env.reset()\n",
    "\n",
    "    def eval(self):\n",
    "        super().eval()\n",
    "\n",
    "    def save(self):\n",
    "        pass\n"
   ]
  }
 ],
 "metadata": {
  "kernelspec": {
   "display_name": "Python 3 (ipykernel)",
   "language": "python",
   "name": "python3"
  },
  "language_info": {
   "codemirror_mode": {
    "name": "ipython",
    "version": 3
   },
   "file_extension": ".py",
   "mimetype": "text/x-python",
   "name": "python",
   "nbconvert_exporter": "python",
   "pygments_lexer": "ipython3",
   "version": "3.10.9 (main, Jan 11 2023, 15:21:40) [GCC 11.2.0]"
  },
  "vscode": {
   "interpreter": {
    "hash": "a40b200cef4537da6c3637769111df27f8fa364d0a5591e7f4429f061357135b"
   }
  }
 },
 "nbformat": 4,
 "nbformat_minor": 4
}
