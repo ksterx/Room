{
 "cells": [
  {
   "cell_type": "code",
   "execution_count": 14,
   "metadata": {},
   "outputs": [],
   "source": [
    "from room.trainers import SequentialTrainer\n",
    "from room.agents import SARSA\n",
    "from room.envs.wrappers import GymEnvWrapper\n",
    "from room import log\n",
    "import gym\n"
   ]
  },
  {
   "cell_type": "code",
   "execution_count": 15,
   "metadata": {},
   "outputs": [
    {
     "name": "stdout",
     "output_type": "stream",
     "text": [
      "\u001b[37;40m[INFO] Using device: cuda:0\u001b[0m\n"
     ]
    },
    {
     "ename": "NotImplementedError",
     "evalue": "OpenAI Gym's new API is not yet supported",
     "output_type": "error",
     "traceback": [
      "\u001b[0;31m---------------------------------------------------------------------------\u001b[0m",
      "\u001b[0;31mNotImplementedError\u001b[0m                       Traceback (most recent call last)",
      "Cell \u001b[0;32mIn[15], line 2\u001b[0m\n\u001b[1;32m      1\u001b[0m env \u001b[39m=\u001b[39m gym\u001b[39m.\u001b[39mmake(\u001b[39m\"\u001b[39m\u001b[39mCartPole-v1\u001b[39m\u001b[39m\"\u001b[39m, render_mode\u001b[39m=\u001b[39m\u001b[39m\"\u001b[39m\u001b[39mhuman\u001b[39m\u001b[39m\"\u001b[39m)\n\u001b[0;32m----> 2\u001b[0m env \u001b[39m=\u001b[39m GymEnvWrapper(env)\n",
      "File \u001b[0;32m~/Development/Room/room/envs/wrappers.py:80\u001b[0m, in \u001b[0;36mGymEnvWrapper.__init__\u001b[0;34m(self, env)\u001b[0m\n\u001b[1;32m     78\u001b[0m     log\u001b[39m.\u001b[39minfo(\u001b[39mf\u001b[39m\u001b[39m\"\u001b[39m\u001b[39mOpenAI Gym version: \u001b[39m\u001b[39m{\u001b[39;00mgym\u001b[39m.\u001b[39m__version__\u001b[39m}\u001b[39;00m\u001b[39m <= 0.25\u001b[39m\u001b[39m\"\u001b[39m)\n\u001b[1;32m     79\u001b[0m \u001b[39melse\u001b[39;00m:\n\u001b[0;32m---> 80\u001b[0m     \u001b[39mraise\u001b[39;00m \u001b[39mNotImplementedError\u001b[39;00m(\u001b[39m\"\u001b[39m\u001b[39mOpenAI Gym\u001b[39m\u001b[39m'\u001b[39m\u001b[39ms new API is not yet supported\u001b[39m\u001b[39m\"\u001b[39m)\n",
      "\u001b[0;31mNotImplementedError\u001b[0m: OpenAI Gym's new API is not yet supported"
     ]
    }
   ],
   "source": [
    "env = gym.make(\"CartPole-v1\", render_mode=\"human\")\n",
    "env = GymEnvWrapper(env)"
   ]
  },
  {
   "cell_type": "code",
   "execution_count": null,
   "metadata": {},
   "outputs": [],
   "source": []
  }
 ],
 "metadata": {
  "kernelspec": {
   "display_name": "ai",
   "language": "python",
   "name": "python3"
  },
  "language_info": {
   "codemirror_mode": {
    "name": "ipython",
    "version": 3
   },
   "file_extension": ".py",
   "mimetype": "text/x-python",
   "name": "python",
   "nbconvert_exporter": "python",
   "pygments_lexer": "ipython3",
   "version": "3.10.9"
  },
  "orig_nbformat": 4,
  "vscode": {
   "interpreter": {
    "hash": "a40b200cef4537da6c3637769111df27f8fa364d0a5591e7f4429f061357135b"
   }
  }
 },
 "nbformat": 4,
 "nbformat_minor": 2
}
