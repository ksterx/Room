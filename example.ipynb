{
 "cells": [
  {
   "cell_type": "code",
   "execution_count": 1,
   "metadata": {},
   "outputs": [],
   "source": [
    "import gym\n",
    "from room.envs import GymEnvWrapper\n",
    "from typing import List, Optional, Union, Dict\n",
    "from room.common.typing import CfgType\n",
    "import torch\n",
    "from tqdm import trange\n",
    "\n",
    "from room import notice\n",
    "from room.agents import Agent, DQN\n",
    "from room.common.callbacks import Callback\n",
    "from room.common.utils import get_param\n",
    "from room.envs.wrappers import EnvWrapper\n",
    "from room.loggers import Logger\n",
    "from room.memories import Memory, RandomMemory\n",
    "from room.trainers.base import Trainer\n",
    "from room.agents.policies import Policy\n",
    "from room.networks.blocks import MLP\n",
    "import time"
   ]
  },
  {
   "cell_type": "code",
   "execution_count": 2,
   "metadata": {},
   "outputs": [],
   "source": [
    "env = gym.make(\"CartPole-v1\")\n",
    "env = GymEnvWrapper(env)"
   ]
  },
  {
   "cell_type": "code",
   "execution_count": 3,
   "metadata": {},
   "outputs": [
    {
     "name": "stdout",
     "output_type": "stream",
     "text": [
      "\u001b[33;20m[WARNING] No policy is not defined in the config file.\u001b[0m\n",
      "\u001b[33;20m[WARNING] No epsilon is not defined in the config file.\u001b[0m\n",
      "\u001b[33;20m[WARNING] No gamma is not defined in the config file.\u001b[0m\n",
      "Sequential(\n",
      "  (fc1): Linear(in_features=4, out_features=100, bias=True)\n",
      "  (relu1): ReLU()\n",
      "  (fc2): Linear(in_features=100, out_features=2, bias=True)\n",
      "  (relu2): ReLU()\n",
      ")\n",
      "\u001b[33;20m[WARNING] No lr is not defined in the config file.\u001b[0m\n",
      "\u001b[37;40m[INFO] Loading optimizer same as the aliases.\u001b[0m\n"
     ]
    }
   ],
   "source": [
    "agent = DQN(policy = [], optimizer=torch.optim.Adam, device=\"cuda\", cfg={}, epsilon=0.1, gamma=0.01, lr=1e-3)"
   ]
  },
  {
   "cell_type": "code",
   "execution_count": 4,
   "metadata": {},
   "outputs": [],
   "source": [
    "memory = RandomMemory(capacity=10)"
   ]
  },
  {
   "cell_type": "code",
   "execution_count": 5,
   "metadata": {},
   "outputs": [],
   "source": [
    "state = env.reset()\n",
    "state = state[0]"
   ]
  },
  {
   "cell_type": "code",
   "execution_count": 6,
   "metadata": {},
   "outputs": [
    {
     "name": "stderr",
     "output_type": "stream",
     "text": [
      "  0%|          | 1/1000 [00:00<09:45,  1.71it/s]/home/ksterx/Applications/miniconda3/envs/ai/lib/python3.10/site-packages/gym/envs/classic_control/cartpole.py:177: UserWarning: \u001b[33mWARN: You are calling 'step()' even though this environment has already returned terminated = True. You should always call 'reset()' once you receive 'terminated = True' -- any further steps are undefined behavior.\u001b[0m\n",
      "  logger.warn(\n",
      "100%|██████████| 1000/1000 [00:01<00:00, 640.16it/s]\n"
     ]
    }
   ],
   "source": [
    "for t in trange(1000):\n",
    "    with torch.no_grad():\n",
    "\n",
    "        action = agent.act(state[0])\n",
    "\n",
    "    next_state, reward, terminated, truncated, info = env.step(action)\n",
    "    memory.add(\n",
    "        {\n",
    "            \"state\": state,\n",
    "            \"action\": action,\n",
    "            \"reward\": reward,\n",
    "            \"next_state\": next_state,\n",
    "            \"terminated\": terminated,\n",
    "            \"truncated\": truncated,\n",
    "            \"info\": info,\n",
    "        }\n",
    "    )\n",
    "\n",
    "    if not memory.is_full():\n",
    "        continue\n",
    "    else:\n",
    "        batch = memory.sample(batch_size=3)\n",
    "        agent.learn(batch)\n",
    "\n",
    "    with torch.no_grad():\n",
    "        if terminated.any() or truncated.any():\n",
    "            states, infos = env.reset()"
   ]
  },
  {
   "cell_type": "code",
   "execution_count": 7,
   "metadata": {},
   "outputs": [],
   "source": [
    "agent.play(env)"
   ]
  },
  {
   "cell_type": "code",
   "execution_count": null,
   "metadata": {},
   "outputs": [],
   "source": []
  }
 ],
 "metadata": {
  "kernelspec": {
   "display_name": "Python 3 (ipykernel)",
   "language": "python",
   "name": "python3"
  },
  "language_info": {
   "codemirror_mode": {
    "name": "ipython",
    "version": 3
   },
   "file_extension": ".py",
   "mimetype": "text/x-python",
   "name": "python",
   "nbconvert_exporter": "python",
   "pygments_lexer": "ipython3",
   "version": "3.10.9"
  },
  "vscode": {
   "interpreter": {
    "hash": "a40b200cef4537da6c3637769111df27f8fa364d0a5591e7f4429f061357135b"
   }
  }
 },
 "nbformat": 4,
 "nbformat_minor": 4
}
