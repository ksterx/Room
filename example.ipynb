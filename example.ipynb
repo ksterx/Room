{
 "cells": [
  {
   "cell_type": "code",
   "execution_count": 22,
   "metadata": {},
   "outputs": [],
   "source": [
    "import gym\n",
    "\n",
    "from room import notice\n",
    "from room.agents import DQN\n",
    "from room.envs import register_env\n",
    "from room.memories import RandomMemory\n",
    "from room.trainers import SimpleTrainer\n"
   ]
  },
  {
   "cell_type": "code",
   "execution_count": 23,
   "metadata": {},
   "outputs": [],
   "source": [
    "env = gym.make(\"CartPole-v1\", render_mode=\"human\")\n",
    "env = register_env(env)"
   ]
  },
  {
   "cell_type": "code",
   "execution_count": 24,
   "metadata": {},
   "outputs": [
    {
     "ename": "TypeError",
     "evalue": "DQN.__init__() missing 2 required positional arguments: 'policy' and 'optimizer'",
     "output_type": "error",
     "traceback": [
      "\u001b[0;31m---------------------------------------------------------------------------\u001b[0m",
      "\u001b[0;31mTypeError\u001b[0m                                 Traceback (most recent call last)",
      "Cell \u001b[0;32mIn[24], line 2\u001b[0m\n\u001b[1;32m      1\u001b[0m memory \u001b[39m=\u001b[39m RandomMemory(capacity\u001b[39m=\u001b[39m\u001b[39m1000\u001b[39m)\n\u001b[0;32m----> 2\u001b[0m agent \u001b[39m=\u001b[39m DQN(model\u001b[39m=\u001b[39;49m\u001b[39m\"\u001b[39;49m\u001b[39mmlp3\u001b[39;49m\u001b[39m\"\u001b[39;49m,cfg\u001b[39m=\u001b[39;49m{})\n\u001b[1;32m      3\u001b[0m trainer \u001b[39m=\u001b[39m SimpleTrainer(env\u001b[39m=\u001b[39menv, agents\u001b[39m=\u001b[39magent, memory\u001b[39m=\u001b[39mmemory)\n",
      "\u001b[0;31mTypeError\u001b[0m: DQN.__init__() missing 2 required positional arguments: 'policy' and 'optimizer'"
     ]
    }
   ],
   "source": [
    "memory = RandomMemory(capacity=1000)\n",
    "agent = DQN(model=\"mlp3\",cfg={})\n",
    "trainer = SimpleTrainer(env=env, agents=agent, memory=memory)"
   ]
  },
  {
   "cell_type": "code",
   "execution_count": 18,
   "metadata": {},
   "outputs": [
    {
     "ename": "NameError",
     "evalue": "name 'trainer' is not defined",
     "output_type": "error",
     "traceback": [
      "\u001b[0;31m---------------------------------------------------------------------------\u001b[0m",
      "\u001b[0;31mNameError\u001b[0m                                 Traceback (most recent call last)",
      "Cell \u001b[0;32mIn[18], line 1\u001b[0m\n\u001b[0;32m----> 1\u001b[0m trainer\u001b[39m.\u001b[39mtrain()\n",
      "\u001b[0;31mNameError\u001b[0m: name 'trainer' is not defined"
     ]
    }
   ],
   "source": [
    "trainer.train()"
   ]
  },
  {
   "cell_type": "code",
   "execution_count": null,
   "metadata": {},
   "outputs": [],
   "source": []
  }
 ],
 "metadata": {
  "language_info": {
   "name": "python"
  },
  "orig_nbformat": 4
 },
 "nbformat": 4,
 "nbformat_minor": 2
}
